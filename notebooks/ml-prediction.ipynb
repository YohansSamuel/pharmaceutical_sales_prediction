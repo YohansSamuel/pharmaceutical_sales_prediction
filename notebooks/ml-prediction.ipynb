{
 "cells": [
  {
   "cell_type": "markdown",
   "metadata": {},
   "source": [
    "## Sales Prediction using a Machine Learning Algorithm(s)"
   ]
  },
  {
   "cell_type": "code",
   "execution_count": 14,
   "metadata": {},
   "outputs": [],
   "source": [
    "import pickle\n",
    "import mlflow\n",
    "import numpy as np\n",
    "import pandas as pd\n",
    "import seaborn as sns\n",
    "from sklearn import preprocessing\n",
    "from sklearn.model_selection import train_test_split \n",
    "from sklearn.ensemble import RandomForestRegressor\n",
    "from sklearn.preprocessing import MinMaxScaler \n",
    "from sklearn.metrics import mean_absolute_error\n",
    "from time import gmtime, strftime\n",
    "import matplotlib.pyplot as plt"
   ]
  },
  {
   "cell_type": "code",
   "execution_count": 15,
   "metadata": {},
   "outputs": [],
   "source": [
    "import os, sys\n",
    "import warnings\n",
    "sys.path.append(os.path.abspath(os.path.join('../scripts')))\n",
    "warnings.filterwarnings('ignore')\n",
    "\n",
    "from preprocessing import Preprocessing\n",
    "from plot import Plot\n",
    "import dvc.api"
   ]
  },
  {
   "cell_type": "code",
   "execution_count": 16,
   "metadata": {},
   "outputs": [],
   "source": [
    "# instantiate Preprocessing object\n",
    "preprocess = Preprocessing()\n",
    "\n",
    "# instantiate Plot object\n",
    "plot = Plot()"
   ]
  },
  {
   "cell_type": "code",
   "execution_count": 19,
   "metadata": {},
   "outputs": [
    {
     "ename": "RevError",
     "evalue": "unknown Git revision 'test-v'",
     "output_type": "error",
     "traceback": [
      "\u001b[0;31m---------------------------------------------------------------------------\u001b[0m",
      "\u001b[0;31mRevError\u001b[0m                                  Traceback (most recent call last)",
      "File \u001b[0;32m~/anaconda3/envs/sales_prediction/lib/python3.9/site-packages/dvc/scm.py:159\u001b[0m, in \u001b[0;36mresolve_rev\u001b[0;34m(scm, rev)\u001b[0m\n\u001b[1;32m    158\u001b[0m \u001b[39mtry\u001b[39;00m:\n\u001b[0;32m--> 159\u001b[0m     \u001b[39mreturn\u001b[39;00m scm\u001b[39m.\u001b[39;49mresolve_rev(fix_exp_head(scm, rev))\n\u001b[1;32m    160\u001b[0m \u001b[39mexcept\u001b[39;00m InternalRevError \u001b[39mas\u001b[39;00m exc:\n\u001b[1;32m    161\u001b[0m     \u001b[39m# `scm` will only resolve git branch and tag names,\u001b[39;00m\n\u001b[1;32m    162\u001b[0m     \u001b[39m# if rev is not a sha it may be an abbreviated experiment name\u001b[39;00m\n",
      "File \u001b[0;32m~/anaconda3/envs/sales_prediction/lib/python3.9/site-packages/scmrepo/git/__init__.py:289\u001b[0m, in \u001b[0;36mGit._backend_func\u001b[0;34m(self, name, *args, **kwargs)\u001b[0m\n\u001b[1;32m    288\u001b[0m func \u001b[39m=\u001b[39m \u001b[39mgetattr\u001b[39m(backend, name)\n\u001b[0;32m--> 289\u001b[0m result \u001b[39m=\u001b[39m func(\u001b[39m*\u001b[39;49margs, \u001b[39m*\u001b[39;49m\u001b[39m*\u001b[39;49mkwargs)\n\u001b[1;32m    290\u001b[0m \u001b[39mself\u001b[39m\u001b[39m.\u001b[39m_last_backend \u001b[39m=\u001b[39m key\n",
      "File \u001b[0;32m~/anaconda3/envs/sales_prediction/lib/python3.9/site-packages/scmrepo/git/backend/pygit2.py:303\u001b[0m, in \u001b[0;36mPygit2Backend.resolve_rev\u001b[0;34m(self, rev)\u001b[0m\n\u001b[1;32m    302\u001b[0m     \u001b[39mreturn\u001b[39;00m shas\u001b[39m.\u001b[39mpop()  \u001b[39m# type: ignore\u001b[39;00m\n\u001b[0;32m--> 303\u001b[0m \u001b[39mraise\u001b[39;00m RevError(\u001b[39mf\u001b[39m\u001b[39m\"\u001b[39m\u001b[39munknown Git revision \u001b[39m\u001b[39m'\u001b[39m\u001b[39m{\u001b[39;00mrev\u001b[39m}\u001b[39;00m\u001b[39m'\u001b[39m\u001b[39m\"\u001b[39m)\n",
      "\u001b[0;31mRevError\u001b[0m: unknown Git revision 'test-v'",
      "\nDuring handling of the above exception, another exception occurred:\n",
      "\u001b[0;31mRevError\u001b[0m                                  Traceback (most recent call last)",
      "\u001b[1;32m/home/yohans/Batch6_10Academy_Training/Week3/pharmaceutical_sales_prediction/notebooks/ml-prediction.ipynb Cell 5\u001b[0m in \u001b[0;36m<cell line: 7>\u001b[0;34m()\u001b[0m\n\u001b[1;32m      <a href='vscode-notebook-cell:/home/yohans/Batch6_10Academy_Training/Week3/pharmaceutical_sales_prediction/notebooks/ml-prediction.ipynb#W4sZmlsZQ%3D%3D?line=3'>4</a>\u001b[0m version \u001b[39m=\u001b[39m \u001b[39m'\u001b[39m\u001b[39mtest-v\u001b[39m\u001b[39m'\u001b[39m\n\u001b[1;32m      <a href='vscode-notebook-cell:/home/yohans/Batch6_10Academy_Training/Week3/pharmaceutical_sales_prediction/notebooks/ml-prediction.ipynb#W4sZmlsZQ%3D%3D?line=5'>6</a>\u001b[0m \u001b[39m# Load data from dvc \u001b[39;00m\n\u001b[0;32m----> <a href='vscode-notebook-cell:/home/yohans/Batch6_10Academy_Training/Week3/pharmaceutical_sales_prediction/notebooks/ml-prediction.ipynb#W4sZmlsZQ%3D%3D?line=6'>7</a>\u001b[0m data_url \u001b[39m=\u001b[39m dvc\u001b[39m.\u001b[39;49mapi\u001b[39m.\u001b[39;49mget_url(path\u001b[39m=\u001b[39;49mpath,repo\u001b[39m=\u001b[39;49mrepo,rev\u001b[39m=\u001b[39;49mversion)\n",
      "File \u001b[0;32m~/anaconda3/envs/sales_prediction/lib/python3.9/site-packages/dvc/api/data.py:21\u001b[0m, in \u001b[0;36mget_url\u001b[0;34m(path, repo, rev, remote)\u001b[0m\n\u001b[1;32m     10\u001b[0m \u001b[39mdef\u001b[39;00m \u001b[39mget_url\u001b[39m(path, repo\u001b[39m=\u001b[39m\u001b[39mNone\u001b[39;00m, rev\u001b[39m=\u001b[39m\u001b[39mNone\u001b[39;00m, remote\u001b[39m=\u001b[39m\u001b[39mNone\u001b[39;00m):\n\u001b[1;32m     11\u001b[0m     \u001b[39m\"\"\"\u001b[39;00m\n\u001b[1;32m     12\u001b[0m \u001b[39m    Returns the URL to the storage location of a data file or directory tracked\u001b[39;00m\n\u001b[1;32m     13\u001b[0m \u001b[39m    in a DVC repo. For Git repos, HEAD is used unless a rev argument is\u001b[39;00m\n\u001b[0;32m   (...)\u001b[0m\n\u001b[1;32m     19\u001b[0m \u001b[39m    directory in the remote storage.\u001b[39;00m\n\u001b[1;32m     20\u001b[0m \u001b[39m    \"\"\"\u001b[39;00m\n\u001b[0;32m---> 21\u001b[0m     \u001b[39mwith\u001b[39;00m Repo\u001b[39m.\u001b[39mopen(repo, rev\u001b[39m=\u001b[39mrev, subrepos\u001b[39m=\u001b[39m\u001b[39mTrue\u001b[39;00m, uninitialized\u001b[39m=\u001b[39m\u001b[39mTrue\u001b[39;00m) \u001b[39mas\u001b[39;00m _repo:\n\u001b[1;32m     22\u001b[0m         fs_path \u001b[39m=\u001b[39m _repo\u001b[39m.\u001b[39mdvcfs\u001b[39m.\u001b[39mfrom_os_path(path)\n\u001b[1;32m     23\u001b[0m         \u001b[39mwith\u001b[39;00m reraise(\u001b[39mFileNotFoundError\u001b[39;00m, PathMissingError(path, repo)):\n",
      "File \u001b[0;32m~/anaconda3/envs/sales_prediction/lib/python3.9/contextlib.py:119\u001b[0m, in \u001b[0;36m_GeneratorContextManager.__enter__\u001b[0;34m(self)\u001b[0m\n\u001b[1;32m    117\u001b[0m \u001b[39mdel\u001b[39;00m \u001b[39mself\u001b[39m\u001b[39m.\u001b[39margs, \u001b[39mself\u001b[39m\u001b[39m.\u001b[39mkwds, \u001b[39mself\u001b[39m\u001b[39m.\u001b[39mfunc\n\u001b[1;32m    118\u001b[0m \u001b[39mtry\u001b[39;00m:\n\u001b[0;32m--> 119\u001b[0m     \u001b[39mreturn\u001b[39;00m \u001b[39mnext\u001b[39;49m(\u001b[39mself\u001b[39;49m\u001b[39m.\u001b[39;49mgen)\n\u001b[1;32m    120\u001b[0m \u001b[39mexcept\u001b[39;00m \u001b[39mStopIteration\u001b[39;00m:\n\u001b[1;32m    121\u001b[0m     \u001b[39mraise\u001b[39;00m \u001b[39mRuntimeError\u001b[39;00m(\u001b[39m\"\u001b[39m\u001b[39mgenerator didn\u001b[39m\u001b[39m'\u001b[39m\u001b[39mt yield\u001b[39m\u001b[39m\"\u001b[39m) \u001b[39mfrom\u001b[39;00m \u001b[39mNone\u001b[39m\n",
      "File \u001b[0;32m~/anaconda3/envs/sales_prediction/lib/python3.9/site-packages/dvc/external_repo.py:77\u001b[0m, in \u001b[0;36mexternal_repo\u001b[0;34m(url, rev, for_write, cache_dir, cache_types, **kwargs)\u001b[0m\n\u001b[1;32m     74\u001b[0m \u001b[39mif\u001b[39;00m \u001b[39m\"\u001b[39m\u001b[39muninitialized\u001b[39m\u001b[39m\"\u001b[39m \u001b[39mnot\u001b[39;00m \u001b[39min\u001b[39;00m repo_kwargs:\n\u001b[1;32m     75\u001b[0m     repo_kwargs[\u001b[39m\"\u001b[39m\u001b[39muninitialized\u001b[39m\u001b[39m\"\u001b[39m] \u001b[39m=\u001b[39m \u001b[39mTrue\u001b[39;00m\n\u001b[0;32m---> 77\u001b[0m repo \u001b[39m=\u001b[39m Repo(\u001b[39m*\u001b[39;49m\u001b[39m*\u001b[39;49mrepo_kwargs)\n\u001b[1;32m     79\u001b[0m \u001b[39mtry\u001b[39;00m:\n\u001b[1;32m     80\u001b[0m     \u001b[39myield\u001b[39;00m repo\n",
      "File \u001b[0;32m~/anaconda3/envs/sales_prediction/lib/python3.9/site-packages/dvc/repo/__init__.py:180\u001b[0m, in \u001b[0;36mRepo.__init__\u001b[0;34m(self, root_dir, fs, rev, subrepos, uninitialized, config, url, repo_factory, scm)\u001b[0m\n\u001b[1;32m    177\u001b[0m     root_dir \u001b[39m=\u001b[39m \u001b[39m\"\u001b[39m\u001b[39m/\u001b[39m\u001b[39m\"\u001b[39m\n\u001b[1;32m    178\u001b[0m     \u001b[39mself\u001b[39m\u001b[39m.\u001b[39m_fs \u001b[39m=\u001b[39m GitFileSystem(scm\u001b[39m=\u001b[39m\u001b[39mself\u001b[39m\u001b[39m.\u001b[39m_scm, rev\u001b[39m=\u001b[39mrev)\n\u001b[0;32m--> 180\u001b[0m \u001b[39mself\u001b[39m\u001b[39m.\u001b[39mroot_dir, \u001b[39mself\u001b[39m\u001b[39m.\u001b[39mdvc_dir, \u001b[39mself\u001b[39m\u001b[39m.\u001b[39mtmp_dir \u001b[39m=\u001b[39m \u001b[39mself\u001b[39;49m\u001b[39m.\u001b[39;49m_get_repo_dirs(\n\u001b[1;32m    181\u001b[0m     root_dir\u001b[39m=\u001b[39;49mroot_dir,\n\u001b[1;32m    182\u001b[0m     fs\u001b[39m=\u001b[39;49m\u001b[39mself\u001b[39;49m\u001b[39m.\u001b[39;49mfs,\n\u001b[1;32m    183\u001b[0m     uninitialized\u001b[39m=\u001b[39;49muninitialized,\n\u001b[1;32m    184\u001b[0m     scm\u001b[39m=\u001b[39;49mscm,\n\u001b[1;32m    185\u001b[0m )\n\u001b[1;32m    187\u001b[0m \u001b[39mself\u001b[39m\u001b[39m.\u001b[39mconfig \u001b[39m=\u001b[39m Config(\u001b[39mself\u001b[39m\u001b[39m.\u001b[39mdvc_dir, fs\u001b[39m=\u001b[39m\u001b[39mself\u001b[39m\u001b[39m.\u001b[39mfs, config\u001b[39m=\u001b[39mconfig)\n\u001b[1;32m    188\u001b[0m \u001b[39mself\u001b[39m\u001b[39m.\u001b[39m_uninitialized \u001b[39m=\u001b[39m uninitialized\n",
      "File \u001b[0;32m~/anaconda3/envs/sales_prediction/lib/python3.9/site-packages/dvc/repo/__init__.py:99\u001b[0m, in \u001b[0;36mRepo._get_repo_dirs\u001b[0;34m(self, root_dir, fs, uninitialized, scm)\u001b[0m\n\u001b[1;32m     97\u001b[0m tmp_dir \u001b[39m=\u001b[39m \u001b[39mNone\u001b[39;00m\n\u001b[1;32m     98\u001b[0m \u001b[39mtry\u001b[39;00m:\n\u001b[0;32m---> 99\u001b[0m     root_dir \u001b[39m=\u001b[39m \u001b[39mself\u001b[39;49m\u001b[39m.\u001b[39;49mfind_root(root_dir, fs)\n\u001b[1;32m    100\u001b[0m     fs \u001b[39m=\u001b[39m fs \u001b[39mor\u001b[39;00m localfs\n\u001b[1;32m    101\u001b[0m     dvc_dir \u001b[39m=\u001b[39m fs\u001b[39m.\u001b[39mpath\u001b[39m.\u001b[39mjoin(root_dir, \u001b[39mself\u001b[39m\u001b[39m.\u001b[39mDVC_DIR)\n",
      "File \u001b[0;32m~/anaconda3/envs/sales_prediction/lib/python3.9/site-packages/dvc/repo/__init__.py:334\u001b[0m, in \u001b[0;36mRepo.find_root\u001b[0;34m(cls, root, fs)\u001b[0m\n\u001b[1;32m    332\u001b[0m fs \u001b[39m=\u001b[39m fs \u001b[39mor\u001b[39;00m localfs\n\u001b[1;32m    333\u001b[0m root \u001b[39m=\u001b[39m root \u001b[39mor\u001b[39;00m os\u001b[39m.\u001b[39mcurdir\n\u001b[0;32m--> 334\u001b[0m root_dir \u001b[39m=\u001b[39m fs\u001b[39m.\u001b[39;49mpath\u001b[39m.\u001b[39mrealpath(root)\n\u001b[1;32m    336\u001b[0m \u001b[39mif\u001b[39;00m \u001b[39mnot\u001b[39;00m fs\u001b[39m.\u001b[39misdir(root_dir):\n\u001b[1;32m    337\u001b[0m     \u001b[39mraise\u001b[39;00m NotDvcRepoError(\u001b[39mf\u001b[39m\u001b[39m\"\u001b[39m\u001b[39mdirectory \u001b[39m\u001b[39m'\u001b[39m\u001b[39m{\u001b[39;00mroot\u001b[39m}\u001b[39;00m\u001b[39m'\u001b[39m\u001b[39m does not exist\u001b[39m\u001b[39m\"\u001b[39m)\n",
      "File \u001b[0;32m~/anaconda3/envs/sales_prediction/lib/python3.9/site-packages/funcy/objects.py:28\u001b[0m, in \u001b[0;36mcached_property.__get__\u001b[0;34m(self, instance, type)\u001b[0m\n\u001b[1;32m     26\u001b[0m \u001b[39mif\u001b[39;00m instance \u001b[39mis\u001b[39;00m \u001b[39mNone\u001b[39;00m:\n\u001b[1;32m     27\u001b[0m     \u001b[39mreturn\u001b[39;00m \u001b[39mself\u001b[39m\n\u001b[0;32m---> 28\u001b[0m res \u001b[39m=\u001b[39m instance\u001b[39m.\u001b[39m\u001b[39m__dict__\u001b[39m[\u001b[39mself\u001b[39m\u001b[39m.\u001b[39mfget\u001b[39m.\u001b[39m\u001b[39m__name__\u001b[39m] \u001b[39m=\u001b[39m \u001b[39mself\u001b[39;49m\u001b[39m.\u001b[39;49mfget(instance)\n\u001b[1;32m     29\u001b[0m \u001b[39mreturn\u001b[39;00m res\n",
      "File \u001b[0;32m~/anaconda3/envs/sales_prediction/lib/python3.9/site-packages/dvc/fs/git.py:50\u001b[0m, in \u001b[0;36mGitFileSystem.path\u001b[0;34m(self)\u001b[0m\n\u001b[1;32m     48\u001b[0m \u001b[39m@cached_property\u001b[39m\n\u001b[1;32m     49\u001b[0m \u001b[39mdef\u001b[39;00m \u001b[39mpath\u001b[39m(\u001b[39mself\u001b[39m):\n\u001b[0;32m---> 50\u001b[0m     \u001b[39mreturn\u001b[39;00m \u001b[39mself\u001b[39;49m\u001b[39m.\u001b[39;49mfs\u001b[39m.\u001b[39mpath\n",
      "File \u001b[0;32m~/anaconda3/envs/sales_prediction/lib/python3.9/site-packages/funcy/objects.py:50\u001b[0m, in \u001b[0;36mwrap_prop.<locals>.decorator.<locals>.WrapperProp.__get__\u001b[0;34m(self, instance, type)\u001b[0m\n\u001b[1;32m     47\u001b[0m     \u001b[39mreturn\u001b[39;00m \u001b[39mself\u001b[39m\n\u001b[1;32m     49\u001b[0m \u001b[39mwith\u001b[39;00m ctx:\n\u001b[0;32m---> 50\u001b[0m     \u001b[39mreturn\u001b[39;00m prop\u001b[39m.\u001b[39;49m\u001b[39m__get__\u001b[39;49m(instance, \u001b[39mtype\u001b[39;49m)\n",
      "File \u001b[0;32m~/anaconda3/envs/sales_prediction/lib/python3.9/site-packages/funcy/objects.py:28\u001b[0m, in \u001b[0;36mcached_property.__get__\u001b[0;34m(self, instance, type)\u001b[0m\n\u001b[1;32m     26\u001b[0m \u001b[39mif\u001b[39;00m instance \u001b[39mis\u001b[39;00m \u001b[39mNone\u001b[39;00m:\n\u001b[1;32m     27\u001b[0m     \u001b[39mreturn\u001b[39;00m \u001b[39mself\u001b[39m\n\u001b[0;32m---> 28\u001b[0m res \u001b[39m=\u001b[39m instance\u001b[39m.\u001b[39m\u001b[39m__dict__\u001b[39m[\u001b[39mself\u001b[39m\u001b[39m.\u001b[39mfget\u001b[39m.\u001b[39m\u001b[39m__name__\u001b[39m] \u001b[39m=\u001b[39m \u001b[39mself\u001b[39;49m\u001b[39m.\u001b[39;49mfget(instance)\n\u001b[1;32m     29\u001b[0m \u001b[39mreturn\u001b[39;00m res\n",
      "File \u001b[0;32m~/anaconda3/envs/sales_prediction/lib/python3.9/site-packages/dvc/fs/git.py:46\u001b[0m, in \u001b[0;36mGitFileSystem.fs\u001b[0;34m(self)\u001b[0m\n\u001b[1;32m     41\u001b[0m \u001b[39m@wrap_prop\u001b[39m(threading\u001b[39m.\u001b[39mLock())\n\u001b[1;32m     42\u001b[0m \u001b[39m@cached_property\u001b[39m\n\u001b[1;32m     43\u001b[0m \u001b[39mdef\u001b[39;00m \u001b[39mfs\u001b[39m(\u001b[39mself\u001b[39m) \u001b[39m-\u001b[39m\u001b[39m>\u001b[39m \u001b[39m\"\u001b[39m\u001b[39mFsspecGitFileSystem\u001b[39m\u001b[39m\"\u001b[39m:\n\u001b[1;32m     44\u001b[0m     \u001b[39mfrom\u001b[39;00m \u001b[39mscmrepo\u001b[39;00m\u001b[39m.\u001b[39;00m\u001b[39mfs\u001b[39;00m \u001b[39mimport\u001b[39;00m GitFileSystem \u001b[39mas\u001b[39;00m FsspecGitFileSystem\n\u001b[0;32m---> 46\u001b[0m     \u001b[39mreturn\u001b[39;00m FsspecGitFileSystem(\u001b[39m*\u001b[39;49m\u001b[39m*\u001b[39;49m\u001b[39mself\u001b[39;49m\u001b[39m.\u001b[39;49mfs_args)\n",
      "File \u001b[0;32m~/anaconda3/envs/sales_prediction/lib/python3.9/site-packages/fsspec/spec.py:68\u001b[0m, in \u001b[0;36m_Cached.__call__\u001b[0;34m(cls, *args, **kwargs)\u001b[0m\n\u001b[1;32m     66\u001b[0m     \u001b[39mreturn\u001b[39;00m \u001b[39mcls\u001b[39m\u001b[39m.\u001b[39m_cache[token]\n\u001b[1;32m     67\u001b[0m \u001b[39melse\u001b[39;00m:\n\u001b[0;32m---> 68\u001b[0m     obj \u001b[39m=\u001b[39m \u001b[39msuper\u001b[39;49m()\u001b[39m.\u001b[39;49m\u001b[39m__call__\u001b[39;49m(\u001b[39m*\u001b[39;49margs, \u001b[39m*\u001b[39;49m\u001b[39m*\u001b[39;49mkwargs)\n\u001b[1;32m     69\u001b[0m     \u001b[39m# Setting _fs_token here causes some static linters to complain.\u001b[39;00m\n\u001b[1;32m     70\u001b[0m     obj\u001b[39m.\u001b[39m_fs_token_ \u001b[39m=\u001b[39m token\n",
      "File \u001b[0;32m~/anaconda3/envs/sales_prediction/lib/python3.9/site-packages/scmrepo/fs.py:174\u001b[0m, in \u001b[0;36mGitFileSystem.__init__\u001b[0;34m(self, path, rev, scm, trie, rev_resolver, **kwargs)\u001b[0m\n\u001b[1;32m    172\u001b[0m scm \u001b[39m=\u001b[39m scm \u001b[39mor\u001b[39;00m Git(path)\n\u001b[1;32m    173\u001b[0m resolver \u001b[39m=\u001b[39m rev_resolver \u001b[39mor\u001b[39;00m Git\u001b[39m.\u001b[39mresolve_rev\n\u001b[0;32m--> 174\u001b[0m resolved \u001b[39m=\u001b[39m resolver(scm, rev \u001b[39mor\u001b[39;49;00m \u001b[39m\"\u001b[39;49m\u001b[39mHEAD\u001b[39;49m\u001b[39m\"\u001b[39;49m)\n\u001b[1;32m    175\u001b[0m tree_obj \u001b[39m=\u001b[39m scm\u001b[39m.\u001b[39mpygit2\u001b[39m.\u001b[39mget_tree_obj(rev\u001b[39m=\u001b[39mresolved)\n\u001b[1;32m    176\u001b[0m trie \u001b[39m=\u001b[39m GitTrie(tree_obj, resolved)\n",
      "File \u001b[0;32m~/anaconda3/envs/sales_prediction/lib/python3.9/site-packages/dvc/scm.py:176\u001b[0m, in \u001b[0;36mresolve_rev\u001b[0;34m(scm, rev)\u001b[0m\n\u001b[1;32m    173\u001b[0m     \u001b[39mif\u001b[39;00m ref_infos:\n\u001b[1;32m    174\u001b[0m         \u001b[39mreturn\u001b[39;00m scm\u001b[39m.\u001b[39mget_ref(\u001b[39mstr\u001b[39m(ref_infos))\n\u001b[0;32m--> 176\u001b[0m \u001b[39mraise\u001b[39;00m RevError(\u001b[39mstr\u001b[39m(exc))\n",
      "\u001b[0;31mRevError\u001b[0m: unknown Git revision 'test-v'"
     ]
    }
   ],
   "source": [
    "# Get url from dvc\n",
    "path = 'data/cleaned_train.csv'\n",
    "repo = 'https://github.com/YohansSamuel/pharmaceutical_sales_prediction'\n",
    "version = 'cleaned-v'\n",
    "\n",
    "# Load data from dvc \n",
    "data_url = dvc.api.get_url(path=path,repo=repo,rev=version)"
   ]
  },
  {
   "cell_type": "code",
   "execution_count": null,
   "metadata": {},
   "outputs": [],
   "source": [
    "# load the cleaned dataset\n",
    "df = preprocess.read_csv('data_url')"
   ]
  },
  {
   "cell_type": "code",
   "execution_count": null,
   "metadata": {},
   "outputs": [],
   "source": [
    "df.head()"
   ]
  },
  {
   "cell_type": "code",
   "execution_count": null,
   "metadata": {},
   "outputs": [],
   "source": []
  },
  {
   "cell_type": "code",
   "execution_count": null,
   "metadata": {},
   "outputs": [],
   "source": []
  }
 ],
 "metadata": {
  "kernelspec": {
   "display_name": "Python 3.9.12 ('sales_prediction')",
   "language": "python",
   "name": "python3"
  },
  "language_info": {
   "codemirror_mode": {
    "name": "ipython",
    "version": 3
   },
   "file_extension": ".py",
   "mimetype": "text/x-python",
   "name": "python",
   "nbconvert_exporter": "python",
   "pygments_lexer": "ipython3",
   "version": "3.9.12"
  },
  "orig_nbformat": 4,
  "vscode": {
   "interpreter": {
    "hash": "7c5c6bf6f57042d85e9fc7041e06a57ec936a752b9829e752d9d24efff31055f"
   }
  }
 },
 "nbformat": 4,
 "nbformat_minor": 2
}
